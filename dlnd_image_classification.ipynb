{
 "cells": [
  {
   "cell_type": "markdown",
   "metadata": {
    "collapsed": true,
    "deletable": true,
    "editable": true
   },
   "source": [
    "# Image Classification\n",
    "In this project, you'll classify images from the [CIFAR-10 dataset](https://www.cs.toronto.edu/~kriz/cifar.html).  The dataset consists of airplanes, dogs, cats, and other objects. You'll preprocess the images, then train a convolutional neural network on all the samples. The images need to be normalized and the labels need to be one-hot encoded.  You'll get to apply what you learned and build a convolutional, max pooling, dropout, and fully connected layers.  At the end, you'll get to see your neural network's predictions on the sample images.\n",
    "## Get the Data\n",
    "Run the following cell to download the [CIFAR-10 dataset for python](https://www.cs.toronto.edu/~kriz/cifar-10-python.tar.gz)."
   ]
  },
  {
   "cell_type": "code",
   "execution_count": 1,
   "metadata": {
    "collapsed": false,
    "deletable": true,
    "editable": true
   },
   "outputs": [
    {
     "name": "stderr",
     "output_type": "stream",
     "text": [
      "CIFAR-10 Dataset: 171MB [38:31, 73.8KB/s]                                                                              \n"
     ]
    },
    {
     "name": "stdout",
     "output_type": "stream",
     "text": [
      "All files found!\n"
     ]
    }
   ],
   "source": [
    "\"\"\"\n",
    "DON'T MODIFY ANYTHING IN THIS CELL THAT IS BELOW THIS LINE\n",
    "\"\"\"\n",
    "from urllib.request import urlretrieve\n",
    "from os.path import isfile, isdir\n",
    "from tqdm import tqdm\n",
    "import problem_unittests as tests\n",
    "import tarfile\n",
    "\n",
    "cifar10_dataset_folder_path = 'cifar-10-batches-py'\n",
    "\n",
    "class DLProgress(tqdm):\n",
    "    last_block = 0\n",
    "\n",
    "    def hook(self, block_num=1, block_size=1, total_size=None):\n",
    "        self.total = total_size\n",
    "        self.update((block_num - self.last_block) * block_size)\n",
    "        self.last_block = block_num\n",
    "\n",
    "if not isfile('cifar-10-python.tar.gz'):\n",
    "    with DLProgress(unit='B', unit_scale=True, miniters=1, desc='CIFAR-10 Dataset') as pbar:\n",
    "        urlretrieve(\n",
    "            'https://www.cs.toronto.edu/~kriz/cifar-10-python.tar.gz',\n",
    "            'cifar-10-python.tar.gz',\n",
    "            pbar.hook)\n",
    "\n",
    "if not isdir(cifar10_dataset_folder_path):\n",
    "    with tarfile.open('cifar-10-python.tar.gz') as tar:\n",
    "        tar.extractall()\n",
    "        tar.close()\n",
    "\n",
    "\n",
    "tests.test_folder_path(cifar10_dataset_folder_path)"
   ]
  },
  {
   "cell_type": "markdown",
   "metadata": {
    "deletable": true,
    "editable": true
   },
   "source": [
    "## Explore the Data\n",
    "The dataset is broken into batches to prevent your machine from running out of memory.  The CIFAR-10 dataset consists of 5 batches, named `data_batch_1`, `data_batch_2`, etc.. Each batch contains the labels and images that are one of the following:\n",
    "* airplane\n",
    "* automobile\n",
    "* bird\n",
    "* cat\n",
    "* deer\n",
    "* dog\n",
    "* frog\n",
    "* horse\n",
    "* ship\n",
    "* truck\n",
    "\n",
    "Understanding a dataset is part of making predictions on the data.  Play around with the code cell below by changing the `batch_id` and `sample_id`. The `batch_id` is the id for a batch (1-5). The `sample_id` is the id for a image and label pair in the batch.\n",
    "\n",
    "Ask yourself \"What are all possible labels?\", \"What is the range of values for the image data?\", \"Are the labels in order or random?\".  Answers to questions like these will help you preprocess the data and end up with better predictions."
   ]
  },
  {
   "cell_type": "code",
   "execution_count": 2,
   "metadata": {
    "collapsed": false,
    "deletable": true,
    "editable": true
   },
   "outputs": [
    {
     "name": "stdout",
     "output_type": "stream",
     "text": [
      "\n",
      "Stats of batch 1:\n",
      "Samples: 10000\n",
      "Label Counts: {0: 1005, 1: 974, 2: 1032, 3: 1016, 4: 999, 5: 937, 6: 1030, 7: 1001, 8: 1025, 9: 981}\n",
      "First 20 Labels: [6, 9, 9, 4, 1, 1, 2, 7, 8, 3, 4, 7, 7, 2, 9, 9, 9, 3, 2, 6]\n",
      "\n",
      "Example of Image 5:\n",
      "Image - Min Value: 0 Max Value: 252\n",
      "Image - Shape: (32, 32, 3)\n",
      "Label - Label Id: 1 Name: automobile\n"
     ]
    },
    {
     "data": {
      "image/png": "[encoded data removed]",
      "text/plain": [
       "<matplotlib.figure.Figure at 0x2629c970128>"
      ]
     },
     "metadata": {
      "image/png": {
       "height": 250,
       "width": 253
      }
     },
     "output_type": "display_data"
    }
   ],
   "source": [
    "%matplotlib inline\n",
    "%config InlineBackend.figure_format = 'retina'\n",
    "\n",
    "import helper\n",
    "import numpy as np\n",
    "\n",
    "# Explore the dataset\n",
    "batch_id = 1\n",
    "sample_id = 5\n",
    "helper.display_stats(cifar10_dataset_folder_path, batch_id, sample_id)"
   ]
  },
  {
   "cell_type": "markdown",
   "metadata": {
    "deletable": true,
    "editable": true
   },
   "source": [
    "## Implement Preprocess Functions\n",
    "### Normalize\n",
    "In the cell below, implement the `normalize` function to take in image data, `x`, and return it as a normalized Numpy array. The values should be in the range of 0 to 1, inclusive.  The return object should be the same shape as `x`."
   ]
  },
  {
   "cell_type": "code",
   "execution_count": 77,
   "metadata": {
    "collapsed": false,
    "deletable": true,
    "editable": true
   },
   "outputs": [
    {
     "name": "stdout",
     "output_type": "stream",
     "text": [
      "[[[ 40 209 125]\n",
      "  [193  74 146]\n",
      "  [127 178   5]\n",
      "  ..., \n",
      "  [ 90 247 224]\n",
      "  [ 99 115  41]\n",
      "  [ 71  21   2]]\n",
      "\n",
      " [[132  57  37]\n",
      "  [229 153 111]\n",
      "  [ 24 145 132]\n",
      "  ..., \n",
      "  [  4  81  87]\n",
      "  [182  10 143]\n",
      "  [ 10  69 131]]\n",
      "\n",
      " [[245 184 215]\n",
      "  [255 132 213]\n",
      "  [183 169 142]\n",
      "  ..., \n",
      "  [215 145 242]\n",
      "  [ 41  84  81]\n",
      "  [187 158 250]]\n",
      "\n",
      " ..., \n",
      " [[ 86 203 206]\n",
      "  [206  99  51]\n",
      "  [227 196  67]\n",
      "  ..., \n",
      "  [136 209  69]\n",
      "  [ 70  99  29]\n",
      "  [207 246   1]]\n",
      "\n",
      " [[ 80 181  73]\n",
      "  [ 51 250 255]\n",
      "  [ 52 153 220]\n",
      "  ..., \n",
      "  [199 185  49]\n",
      "  [137 101  83]\n",
      "  [134 102  96]]\n",
      "\n",
      " [[ 30  80 183]\n",
      "  [186 116  44]\n",
      "  [167  28  37]\n",
      "  ..., \n",
      "  [249 106 119]\n",
      "  [ 55 144 159]\n",
      "  [224 205 221]]]\n",
      "[[[ 0.15686275  0.81960784  0.49019608]\n",
      "  [ 0.75686275  0.29019608  0.57254902]\n",
      "  [ 0.49803922  0.69803922  0.01960784]\n",
      "  ..., \n",
      "  [ 0.35294118  0.96862745  0.87843137]\n",
      "  [ 0.38823529  0.45098039  0.16078431]\n",
      "  [ 0.27843137  0.08235294  0.00784314]]\n",
      "\n",
      " [[ 0.51764706  0.22352941  0.14509804]\n",
      "  [ 0.89803922  0.6         0.43529412]\n",
      "  [ 0.09411765  0.56862745  0.51764706]\n",
      "  ..., \n",
      "  [ 0.01568627  0.31764706  0.34117647]\n",
      "  [ 0.71372549  0.03921569  0.56078431]\n",
      "  [ 0.03921569  0.27058824  0.51372549]]\n",
      "\n",
      " [[ 0.96078431  0.72156863  0.84313725]\n",
      "  [ 1.          0.51764706  0.83529412]\n",
      "  [ 0.71764706  0.6627451   0.55686275]\n",
      "  ..., \n",
      "  [ 0.84313725  0.56862745  0.94901961]\n",
      "  [ 0.16078431  0.32941176  0.31764706]\n",
      "  [ 0.73333333  0.61960784  0.98039216]]\n",
      "\n",
      " ..., \n",
      " [[ 0.3372549   0.79607843  0.80784314]\n",
      "  [ 0.80784314  0.38823529  0.2       ]\n",
      "  [ 0.89019608  0.76862745  0.2627451 ]\n",
      "  ..., \n",
      "  [ 0.53333333  0.81960784  0.27058824]\n",
      "  [ 0.2745098   0.38823529  0.11372549]\n",
      "  [ 0.81176471  0.96470588  0.00392157]]\n",
      "\n",
      " [[ 0.31372549  0.70980392  0.28627451]\n",
      "  [ 0.2         0.98039216  1.        ]\n",
      "  [ 0.20392157  0.6         0.8627451 ]\n",
      "  ..., \n",
      "  [ 0.78039216  0.7254902   0.19215686]\n",
      "  [ 0.5372549   0.39607843  0.3254902 ]\n",
      "  [ 0.5254902   0.4         0.37647059]]\n",
      "\n",
      " [[ 0.11764706  0.31372549  0.71764706]\n",
      "  [ 0.72941176  0.45490196  0.17254902]\n",
      "  [ 0.65490196  0.10980392  0.14509804]\n",
      "  ..., \n",
      "  [ 0.97647059  0.41568627  0.46666667]\n",
      "  [ 0.21568627  0.56470588  0.62352941]\n",
      "  [ 0.87843137  0.80392157  0.86666667]]]\n",
      "Tests Passed\n"
     ]
    }
   ],
   "source": [
    "def normalize(x):\n",
    "    \"\"\"\n",
    "    Normalize a list of sample image data in the range of 0 to 1\n",
    "    : x: List of image data.  The image shape is (32, 32, 3)\n",
    "    : return: Numpy array of normalize data\n",
    "    \"\"\"\n",
    "    # TODO: Implement Function\n",
    "    # Not sure why we aren't using tensorflow at this stage of the exercies?\n",
    "    #return tf.image.per_image_standardization(x)\n",
    "    print(x[0])\n",
    "    print(np.array((x) / (255))[0])\n",
    "    return np.array((x) / (255))\n",
    "\n",
    "\n",
    "\"\"\"\n",
    "DON'T MODIFY ANYTHING IN THIS CELL THAT IS BELOW THIS LINE\n",
    "\"\"\"\n",
    "tests.test_normalize(normalize)"
   ]
  },
  {
   "cell_type": "markdown",
   "metadata": {
    "deletable": true,
    "editable": true
   },
   "source": [
    "### One-hot encode\n",
    "Just like the previous code cell, you'll be implementing a function for preprocessing.  This time, you'll implement the `one_hot_encode` function. The input, `x`, are a list of labels.  Implement the function to return the list of labels as One-Hot encoded Numpy array.  The possible values for labels are 0 to 9. The one-hot encoding function should return the same encoding for each value between each call to `one_hot_encode`.  Make sure to save the map of encodings outside the function.\n",
    "\n",
    "Hint: Don't reinvent the wheel."
   ]
  },
  {
   "cell_type": "code",
   "execution_count": 81,
   "metadata": {
    "collapsed": false,
    "deletable": true,
    "editable": true
   },
   "outputs": [
    {
     "name": "stdout",
     "output_type": "stream",
     "text": [
      "Tests Passed\n"
     ]
    }
   ],
   "source": [
    "def one_hot_encode(x):\n",
    "    \"\"\"\n",
    "    One hot encode a list of sample labels. Return a one-hot encoded vector for each label.\n",
    "    : x: List of sample Labels\n",
    "    : return: Numpy array of one-hot encoded labels\n",
    "    \"\"\"\n",
    "    # TODO: Implement Function\n",
    "    #print(x)\n",
    "    num_categories = 10\n",
    "    num_items = np.shape(x)[0]\n",
    "    #print((num_items, num_categories))\n",
    "    encoded = np.zeros((num_items, num_categories))\n",
    "    encoded[np.arange(num_items), x] = 1\n",
    "    #print (np.shape(encoded))\n",
    "    return encoded\n",
    "\n",
    "\n",
    "\"\"\"\n",
    "DON'T MODIFY ANYTHING IN THIS CELL THAT IS BELOW THIS LINE\n",
    "\"\"\"\n",
    "tests.test_one_hot_encode(one_hot_encode)"
   ]
  },
  {
   "cell_type": "markdown",
   "metadata": {
    "deletable": true,
    "editable": true
   },
   "source": [
    "### Randomize Data\n",
    "As you saw from exploring the data above, the order of the samples are randomized.  It doesn't hurt to randomize it again, but you don't need to for this dataset."
   ]
  },
  {
   "cell_type": "markdown",
   "metadata": {
    "deletable": true,
    "editable": true
   },
   "source": [
    "## Preprocess all the data and save it\n",
    "Running the code cell below will preprocess all the CIFAR-10 data and save it to file. The code below also uses 10% of the training data for validation."
   ]
  },
  {
   "cell_type": "code",
   "execution_count": 5,
   "metadata": {
    "collapsed": false,
    "deletable": true,
    "editable": true
   },
   "outputs": [],
   "source": [
    "\"\"\"\n",
    "DON'T MODIFY ANYTHING IN THIS CELL\n",
    "\"\"\"\n",
    "# Preprocess Training, Validation, and Testing Data\n",
    "helper.preprocess_and_save_data(cifar10_dataset_folder_path, normalize, one_hot_encode)"
   ]
  },
  {
   "cell_type": "markdown",
   "metadata": {
    "deletable": true,
    "editable": true
   },
   "source": [
    "# Check Point\n",
    "This is your first checkpoint.  If you ever decide to come back to this notebook or have to restart the notebook, you can start from here.  The preprocessed data has been saved to disk."
   ]
  },
  {
   "cell_type": "code",
   "execution_count": 6,
   "metadata": {
    "collapsed": true,
    "deletable": true,
    "editable": true
   },
   "outputs": [],
   "source": [
    "\"\"\"\n",
    "DON'T MODIFY ANYTHING IN THIS CELL\n",
    "\"\"\"\n",
    "import pickle\n",
    "import problem_unittests as tests\n",
    "import helper\n",
    "\n",
    "# Load the Preprocessed Validation data\n",
    "valid_features, valid_labels = pickle.load(open('preprocess_validation.p', mode='rb'))"
   ]
  },
  {
   "cell_type": "markdown",
   "metadata": {
    "deletable": true,
    "editable": true
   },
   "source": [
    "## Build the network\n",
    "For the neural network, you'll build each layer into a function.  Most of the code you've seen has been outside of functions. To test your code more thoroughly, we require that you put each layer in a function.  This allows us to give you better feedback and test for simple mistakes using our unittests before you submit your project.\n",
    "\n",
    ">**Note:** If you're finding it hard to dedicate enough time for this course each week, we've provided a small shortcut to this part of the project. In the next couple of problems, you'll have the option to use classes from the [TensorFlow Layers](https://www.tensorflow.org/api_docs/python/tf/layers) or [TensorFlow Layers (contrib)](https://www.tensorflow.org/api_guides/python/contrib.layers) packages to build each layer, except the layers you build in the \"Convolutional and Max Pooling Layer\" section.  TF Layers is similar to Keras's and TFLearn's abstraction to layers, so it's easy to pickup.\n",
    "\n",
    ">However, if you would like to get the most out of this course, try to solve all the problems _without_ using anything from the TF Layers packages. You **can** still use classes from other packages that happen to have the same name as ones you find in TF Layers! For example, instead of using the TF Layers version of the `conv2d` class, [tf.layers.conv2d](https://www.tensorflow.org/api_docs/python/tf/layers/conv2d), you would want to use the TF Neural Network version of `conv2d`, [tf.nn.conv2d](https://www.tensorflow.org/api_docs/python/tf/nn/conv2d). \n",
    "\n",
    "Let's begin!\n",
    "\n",
    "### Input\n",
    "The neural network needs to read the image data, one-hot encoded labels, and dropout keep probability. Implement the following functions\n",
    "* Implement `neural_net_image_input`\n",
    " * Return a [TF Placeholder](https://www.tensorflow.org/api_docs/python/tf/placeholder)\n",
    " * Set the shape using `image_shape` with batch size set to `None`.\n",
    " * Name the TensorFlow placeholder \"x\" using the TensorFlow `name` parameter in the [TF Placeholder](https://www.tensorflow.org/api_docs/python/tf/placeholder).\n",
    "* Implement `neural_net_label_input`\n",
    " * Return a [TF Placeholder](https://www.tensorflow.org/api_docs/python/tf/placeholder)\n",
    " * Set the shape using `n_classes` with batch size set to `None`.\n",
    " * Name the TensorFlow placeholder \"y\" using the TensorFlow `name` parameter in the [TF Placeholder](https://www.tensorflow.org/api_docs/python/tf/placeholder).\n",
    "* Implement `neural_net_keep_prob_input`\n",
    " * Return a [TF Placeholder](https://www.tensorflow.org/api_docs/python/tf/placeholder) for dropout keep probability.\n",
    " * Name the TensorFlow placeholder \"keep_prob\" using the TensorFlow `name` parameter in the [TF Placeholder](https://www.tensorflow.org/api_docs/python/tf/placeholder).\n",
    "\n",
    "These names will be used at the end of the project to load your saved model.\n",
    "\n",
    "Note: `None` for shapes in TensorFlow allow for a dynamic size."
   ]
  },
  {
   "cell_type": "code",
   "execution_count": 92,
   "metadata": {
    "collapsed": false,
    "deletable": true,
    "editable": true
   },
   "outputs": [
    {
     "name": "stdout",
     "output_type": "stream",
     "text": [
      "Image Input Tests Passed.\n",
      "Label Input Tests Passed.\n",
      "Keep Prob Tests Passed.\n"
     ]
    }
   ],
   "source": [
    "import tensorflow as tf\n",
    "\n",
    "def neural_net_image_input(image_shape):\n",
    "    \"\"\"\n",
    "    Return a Tensor for a bach of image input\n",
    "    : image_shape: Shape of the images\n",
    "    : return: Tensor for image input.\n",
    "    \"\"\"\n",
    "    return tf.placeholder(tf.float32, (None, image_shape[0], image_shape[1], image_shape[2]), name=\"x\")\n",
    "\n",
    "\n",
    "\n",
    "def neural_net_label_input(n_classes):\n",
    "    \"\"\"\n",
    "    Return a Tensor for a batch of label input\n",
    "    : n_classes: Number of classes\n",
    "    : return: Tensor for label input.\n",
    "    \"\"\"\n",
    "    return tf.placeholder(tf.float32, (None, n_classes), name=\"y\")\n",
    "\n",
    "\n",
    "def neural_net_keep_prob_input():\n",
    "    \"\"\"\n",
    "    Return a Tensor for keep probability\n",
    "    : return: Tensor for keep probability.\n",
    "    \"\"\"\n",
    "    return tf.placeholder(tf.float32, name='keep_prob')\n",
    "\n",
    "\n",
    "\"\"\"\n",
    "DON'T MODIFY ANYTHING IN THIS CELL THAT IS BELOW THIS LINE\n",
    "\"\"\"\n",
    "tf.reset_default_graph()\n",
    "tests.test_nn_image_inputs(neural_net_image_input)\n",
    "tests.test_nn_label_inputs(neural_net_label_input)\n",
    "tests.test_nn_keep_prob_inputs(neural_net_keep_prob_input)"
   ]
  },
  {
   "cell_type": "markdown",
   "metadata": {
    "deletable": true,
    "editable": true
   },
   "source": [
    "### Convolution and Max Pooling Layer\n",
    "Convolution layers have a lot of success with images. For this code cell, you should implement the function `conv2d_maxpool` to apply convolution then max pooling:\n",
    "* Create the weight and bias using `conv_ksize`, `conv_num_outputs` and the shape of `x_tensor`.\n",
    "* Apply a convolution to `x_tensor` using weight and `conv_strides`.\n",
    " * We recommend you use same padding, but you're welcome to use any padding.\n",
    "* Add bias\n",
    "* Add a nonlinear activation to the convolution.\n",
    "* Apply Max Pooling using `pool_ksize` and `pool_strides`.\n",
    " * We recommend you use same padding, but you're welcome to use any padding.\n",
    "\n",
    "**Note:** You **can't** use [TensorFlow Layers](https://www.tensorflow.org/api_docs/python/tf/layers) or [TensorFlow Layers (contrib)](https://www.tensorflow.org/api_guides/python/contrib.layers) for **this** layer, but you can still use TensorFlow's [Neural Network](https://www.tensorflow.org/api_docs/python/tf/nn) package. You may still use the shortcut option for all the **other** layers."
   ]
  },
  {
   "cell_type": "code",
   "execution_count": 93,
   "metadata": {
    "collapsed": false,
    "deletable": true,
    "editable": true
   },
   "outputs": [
    {
     "name": "stdout",
     "output_type": "stream",
     "text": [
      "Tests Passed\n"
     ]
    }
   ],
   "source": [
    "def conv2d_maxpool(x_tensor, conv_num_outputs, conv_ksize, conv_strides, pool_ksize, pool_strides):\n",
    "    \"\"\"\n",
    "    Apply convolution then max pooling to x_tensor\n",
    "    :param x_tensor: TensorFlow Tensor\n",
    "    :param conv_num_outputs: Number of outputs for the convolutional layer\n",
    "    :param conv_ksize: kernal size 2-D Tuple for the convolutional layer\n",
    "    :param conv_strides: Stride 2-D Tuple for convolution\n",
    "    :param pool_ksize: kernal size 2-D Tuple for pool\n",
    "    :param pool_strides: Stride 2-D Tuple for pool\n",
    "    : return: A tensor that represents convolution and max pooling of x_tensor\n",
    "    \"\"\"\n",
    "    x_shape = x_tensor.get_shape().as_list()\n",
    "    x_depth = x_shape[3]\n",
    "    filter_weights = tf.Variable(tf.truncated_normal((conv_ksize[0], conv_ksize[1], x_depth, conv_num_outputs),stddev=0.1)) # (height, width, input_depth, output_depth)\n",
    "    filter_bias = tf.Variable(tf.zeros(conv_num_outputs))\n",
    "    strides = [1, conv_strides[0], conv_strides[1], 1] # (batch, height, width, depth)\n",
    "    padding = 'SAME'\n",
    "    conv = tf.nn.conv2d(x_tensor, filter_weights, strides, padding)\n",
    "    conv = tf.nn.bias_add(conv, filter_bias)\n",
    "    \n",
    "    conv = tf.nn.relu(conv)\n",
    "    \n",
    "    pool_filter_shape = [1, pool_ksize[0], pool_ksize[1], 1]\n",
    "    strides = [1, pool_strides[0], pool_strides[1], 1]\n",
    "    padding = 'SAME'\n",
    "    pool = tf.nn.max_pool(conv, pool_filter_shape, strides, padding)\n",
    "    \n",
    "    return pool \n",
    "\n",
    "\n",
    "\"\"\"\n",
    "DON'T MODIFY ANYTHING IN THIS CELL THAT IS BELOW THIS LINE\n",
    "\"\"\"\n",
    "tests.test_con_pool(conv2d_maxpool)"
   ]
  },
  {
   "cell_type": "markdown",
   "metadata": {
    "deletable": true,
    "editable": true
   },
   "source": [
    "### Flatten Layer\n",
    "Implement the `flatten` function to change the dimension of `x_tensor` from a 4-D tensor to a 2-D tensor.  The output should be the shape (*Batch Size*, *Flattened Image Size*). Shortcut option: you can use classes from the [TensorFlow Layers](https://www.tensorflow.org/api_docs/python/tf/layers) or [TensorFlow Layers (contrib)](https://www.tensorflow.org/api_guides/python/contrib.layers) packages for this layer. For more of a challenge, only use other TensorFlow packages."
   ]
  },
  {
   "cell_type": "code",
   "execution_count": 94,
   "metadata": {
    "collapsed": false,
    "deletable": true,
    "editable": true
   },
   "outputs": [
    {
     "name": "stdout",
     "output_type": "stream",
     "text": [
      "Tests Passed\n"
     ]
    }
   ],
   "source": [
    "def flatten(x_tensor):\n",
    "    \"\"\"\n",
    "    Flatten x_tensor to (Batch Size, Flattened Image Size)\n",
    "    : x_tensor: A tensor of size (Batch Size, ...), where ... are the image dimensions.\n",
    "    : return: A tensor of size (Batch Size, Flattened Image Size).\n",
    "    \"\"\"\n",
    "    # TODO: Implement Function\n",
    "    \n",
    "    x_shape = x_tensor.get_shape().as_list()\n",
    "    #print(x_shape)\n",
    "    x_flat = tf.reshape(x_tensor, [-1, x_shape[1] * x_shape[2] * x_shape[3]])\n",
    "    #print(x_flat.get_shape().as_list())\n",
    "    return x_flat\n",
    "\n",
    "\n",
    "\"\"\"\n",
    "DON'T MODIFY ANYTHING IN THIS CELL THAT IS BELOW THIS LINE\n",
    "\"\"\"\n",
    "tests.test_flatten(flatten)"
   ]
  },
  {
   "cell_type": "markdown",
   "metadata": {
    "deletable": true,
    "editable": true
   },
   "source": [
    "### Fully-Connected Layer\n",
    "Implement the `fully_conn` function to apply a fully connected layer to `x_tensor` with the shape (*Batch Size*, *num_outputs*). Shortcut option: you can use classes from the [TensorFlow Layers](https://www.tensorflow.org/api_docs/python/tf/layers) or [TensorFlow Layers (contrib)](https://www.tensorflow.org/api_guides/python/contrib.layers) packages for this layer. For more of a challenge, only use other TensorFlow packages."
   ]
  },
  {
   "cell_type": "code",
   "execution_count": 95,
   "metadata": {
    "collapsed": false,
    "deletable": true,
    "editable": true
   },
   "outputs": [
    {
     "name": "stdout",
     "output_type": "stream",
     "text": [
      "Tests Passed\n"
     ]
    }
   ],
   "source": [
    "def fully_conn(x_tensor, num_outputs):\n",
    "    \"\"\"\n",
    "    Apply a fully connected layer to x_tensor using weight and bias\n",
    "    : x_tensor: A 2-D tensor where the first dimension is batch size.\n",
    "    : num_outputs: The number of output that the new tensor should be.\n",
    "    : return: A 2-D tensor where the second dimension is num_outputs.\n",
    "    \"\"\"\n",
    "    # TODO: Implement Function\n",
    "#     print(x_tensor)\n",
    "#     print(num_outputs)\n",
    "    \n",
    "    #return tf.nn.relu(tf.layers.dense(inputs=x_tensor, units=num_outputs))\n",
    "    \n",
    "    return tf.contrib.layers.fully_connected(inputs = x_tensor, num_outputs=num_outputs, activation_fn=tf.nn.relu)\n",
    "\n",
    "\n",
    "\"\"\"\n",
    "DON'T MODIFY ANYTHING IN THIS CELL THAT IS BELOW THIS LINE\n",
    "\"\"\"\n",
    "tests.test_fully_conn(fully_conn)"
   ]
  },
  {
   "cell_type": "markdown",
   "metadata": {
    "deletable": true,
    "editable": true
   },
   "source": [
    "### Output Layer\n",
    "Implement the `output` function to apply a fully connected layer to `x_tensor` with the shape (*Batch Size*, *num_outputs*). Shortcut option: you can use classes from the [TensorFlow Layers](https://www.tensorflow.org/api_docs/python/tf/layers) or [TensorFlow Layers (contrib)](https://www.tensorflow.org/api_guides/python/contrib.layers) packages for this layer. For more of a challenge, only use other TensorFlow packages.\n",
    "\n",
    "**Note:** Activation, softmax, or cross entropy should **not** be applied to this."
   ]
  },
  {
   "cell_type": "code",
   "execution_count": 96,
   "metadata": {
    "collapsed": false,
    "deletable": true,
    "editable": true
   },
   "outputs": [
    {
     "name": "stdout",
     "output_type": "stream",
     "text": [
      "Tests Passed\n"
     ]
    }
   ],
   "source": [
    "def output(x_tensor, num_outputs):\n",
    "    \"\"\"\n",
    "    Apply a output layer to x_tensor using weight and bias\n",
    "    : x_tensor: A 2-D tensor where the first dimension is batch size.\n",
    "    : num_outputs: The number of output that the new tensor should be.\n",
    "    : return: A 2-D tensor where the second dimension is num_outputs.\n",
    "    \"\"\"\n",
    "    # TODO: Implement Function\n",
    "    #return tf.layers.dense(inputs=x_tensor, units=num_outputs)\n",
    "    return tf.contrib.layers.fully_connected(inputs = x_tensor, num_outputs=num_outputs, activation_fn=None)\n",
    "\n",
    "\n",
    "\"\"\"\n",
    "DON'T MODIFY ANYTHING IN THIS CELL THAT IS BELOW THIS LINE\n",
    "\"\"\"\n",
    "tests.test_output(output)"
   ]
  },
  {
   "cell_type": "markdown",
   "metadata": {
    "deletable": true,
    "editable": true
   },
   "source": [
    "### Create Convolutional Model\n",
    "Implement the function `conv_net` to create a convolutional neural network model. The function takes in a batch of images, `x`, and outputs logits.  Use the layers you created above to create this model:\n",
    "\n",
    "* Apply 1, 2, or 3 Convolution and Max Pool layers\n",
    "* Apply a Flatten Layer\n",
    "* Apply 1, 2, or 3 Fully Connected Layers\n",
    "* Apply an Output Layer\n",
    "* Return the output\n",
    "* Apply [TensorFlow's Dropout](https://www.tensorflow.org/api_docs/python/tf/nn/dropout) to one or more layers in the model using `keep_prob`. "
   ]
  },
  {
   "cell_type": "code",
   "execution_count": 97,
   "metadata": {
    "collapsed": false,
    "deletable": true,
    "editable": true
   },
   "outputs": [
    {
     "name": "stdout",
     "output_type": "stream",
     "text": [
      "Neural Network Built!\n"
     ]
    }
   ],
   "source": [
    "def conv_net(x, keep_prob):\n",
    "    \"\"\"\n",
    "    Create a convolutional neural network model\n",
    "    : x: Placeholder tensor that holds image data.\n",
    "    : keep_prob: Placeholder tensor that hold dropout keep probability.\n",
    "    : return: Tensor that represents logits\n",
    "    \"\"\"\n",
    "    # TODO: Apply 1, 2, or 3 Convolution and Max Pool layers\n",
    "    #    Play around with different number of outputs, kernel size and stride\n",
    "    # Function Definition from Above:\n",
    "    #    conv2d_maxpool(x_tensor, conv_num_outputs, conv_ksize, conv_strides, pool_ksize, pool_strides)\n",
    "    conv1_num_outputs = 20\n",
    "    conv1_ksize = (4,4)\n",
    "    conv1_strides = (2,2)\n",
    "    pool1_ksize = (2,2)\n",
    "    pool1_strides = (2,2)\n",
    "    conv1 = conv2d_maxpool(x, conv1_num_outputs, conv1_ksize, conv1_strides, pool1_ksize, pool1_strides)\n",
    "\n",
    "    conv2_num_outputs = 60\n",
    "    conv2_ksize = (4,4)\n",
    "    conv2_strides = (2,2)\n",
    "    pool2_ksize = (2,2)\n",
    "    pool2_strides = (2,2)\n",
    "    conv2 = conv2d_maxpool(conv1, conv2_num_outputs, conv2_ksize, conv2_strides, pool2_ksize, pool2_strides)\n",
    "\n",
    "    \n",
    "    # TODO: Apply a Flatten Layer\n",
    "    # Function Definition from Above:\n",
    "    #   flatten(x_tensor)\n",
    "    flat = flatten(conv2)\n",
    "    \n",
    "\n",
    "    # TODO: Apply 1, 2, or 3 Fully Connected Layers\n",
    "    #    Play around with different number of outputs\n",
    "    # Function Definition from Above:\n",
    "    #   fully_conn(x_tensor, num_outputs)\n",
    "    full1_output = 200\n",
    "    full1 = fully_conn(flat, full1_output)\n",
    "    full1 = tf.nn.dropout(full1, keep_prob)\n",
    "    \n",
    "    full2_output = 200\n",
    "    full2 = fully_conn(full1, full2_output)\n",
    "    full2 = tf.nn.dropout(full2, keep_prob)\n",
    "    \n",
    "    full3_output = 200\n",
    "    full3 = fully_conn(full2, full3_output)\n",
    "    full3 = tf.nn.dropout(full3, keep_prob)\n",
    "    # TODO: Apply an Output Layer\n",
    "    #    Set this to the number of classes\n",
    "    # Function Definition from Above:\n",
    "    #   output(x_tensor, num_outputs)\n",
    "    output = fully_conn(full3, 10)\n",
    "    \n",
    "    # TODO: return output\n",
    "    return output\n",
    "\n",
    "\n",
    "\"\"\"\n",
    "DON'T MODIFY ANYTHING IN THIS CELL THAT IS BELOW THIS LINE\n",
    "\"\"\"\n",
    "\n",
    "##############################\n",
    "## Build the Neural Network ##\n",
    "##############################\n",
    "\n",
    "# Remove previous weights, bias, inputs, etc..\n",
    "tf.reset_default_graph()\n",
    "\n",
    "# Inputs\n",
    "x = neural_net_image_input((32, 32, 3))\n",
    "y = neural_net_label_input(10)\n",
    "keep_prob = neural_net_keep_prob_input()\n",
    "\n",
    "# Model\n",
    "logits = conv_net(x, keep_prob)\n",
    "\n",
    "# Name logits Tensor, so that is can be loaded from disk after training\n",
    "logits = tf.identity(logits, name='logits')\n",
    "\n",
    "# Loss and Optimizer\n",
    "cost = tf.reduce_mean(tf.nn.softmax_cross_entropy_with_logits(logits=logits, labels=y))\n",
    "optimizer = tf.train.AdamOptimizer().minimize(cost)\n",
    "\n",
    "# Accuracy\n",
    "correct_pred = tf.equal(tf.argmax(logits, 1), tf.argmax(y, 1))\n",
    "accuracy = tf.reduce_mean(tf.cast(correct_pred, tf.float32), name='accuracy')\n",
    "\n",
    "tests.test_conv_net(conv_net)"
   ]
  },
  {
   "cell_type": "markdown",
   "metadata": {
    "deletable": true,
    "editable": true
   },
   "source": [
    "## Train the Neural Network\n",
    "### Single Optimization\n",
    "Implement the function `train_neural_network` to do a single optimization.  The optimization should use `optimizer` to optimize in `session` with a `feed_dict` of the following:\n",
    "* `x` for image input\n",
    "* `y` for labels\n",
    "* `keep_prob` for keep probability for dropout\n",
    "\n",
    "This function will be called for each batch, so `tf.global_variables_initializer()` has already been called.\n",
    "\n",
    "Note: Nothing needs to be returned. This function is only optimizing the neural network."
   ]
  },
  {
   "cell_type": "code",
   "execution_count": 98,
   "metadata": {
    "collapsed": false,
    "deletable": true,
    "editable": true
   },
   "outputs": [
    {
     "name": "stdout",
     "output_type": "stream",
     "text": [
      "Tests Passed\n"
     ]
    }
   ],
   "source": [
    "def train_neural_network(session, optimizer, keep_probability, feature_batch, label_batch):\n",
    "    \"\"\"\n",
    "    Optimize the session on a batch of images and labels\n",
    "    : session: Current TensorFlow session\n",
    "    : optimizer: TensorFlow optimizer function\n",
    "    : keep_probability: keep probability\n",
    "    : feature_batch: Batch of Numpy image data\n",
    "    : label_batch: Batch of Numpy label data\n",
    "    \"\"\"\n",
    "    # TODO: Implement Function\n",
    "\n",
    "    \n",
    "    session.run(optimizer,\n",
    "                feed_dict={x: feature_batch, y: label_batch, keep_prob: keep_probability})\n",
    "\n",
    "\n",
    "\"\"\"\n",
    "DON'T MODIFY ANYTHING IN THIS CELL THAT IS BELOW THIS LINE\n",
    "\"\"\"\n",
    "tests.test_train_nn(train_neural_network)"
   ]
  },
  {
   "cell_type": "markdown",
   "metadata": {
    "deletable": true,
    "editable": true
   },
   "source": [
    "### Show Stats\n",
    "Implement the function `print_stats` to print loss and validation accuracy.  Use the global variables `valid_features` and `valid_labels` to calculate validation accuracy.  Use a keep probability of `1.0` to calculate the loss and validation accuracy."
   ]
  },
  {
   "cell_type": "code",
   "execution_count": 108,
   "metadata": {
    "collapsed": false,
    "deletable": true,
    "editable": true
   },
   "outputs": [],
   "source": [
    "def print_stats(session, feature_batch, label_batch, cost, accuracy):\n",
    "    \"\"\"\n",
    "    Print information about loss and validation accuracy\n",
    "    : session: Current TensorFlow session\n",
    "    : feature_batch: Batch of Numpy image data\n",
    "    : label_batch: Batch of Numpy label data\n",
    "    : cost: TensorFlow cost function\n",
    "    : accuracy: TensorFlow accuracy function\n",
    "    \"\"\"\n",
    "    # TODO: Implement Function\n",
    "#     print('session')\n",
    "#     print(session)\n",
    "#     print('feature_batch')\n",
    "#     print(feature_batch)\n",
    "#     print('label_batch')\n",
    "#     print(label_batch)\n",
    "#     print('valid_features')\n",
    "#     print(valid_features)\n",
    "#     print('valid_labels')\n",
    "#     print(valid_labels)\n",
    "#     print('cost')\n",
    "#     print(cost)\n",
    "#     print('accuracy')\n",
    "#     print(accuracy)\n",
    "    loss = session.run(cost, feed_dict={x: feature_batch, y: label_batch, keep_prob: 1.0})\n",
    "    valid_acc = session.run(accuracy, feed_dict={x: valid_features, y: valid_labels, keep_prob: 1.0})\n",
    "    print('Loss: {:.4f} Validation Accuracy: {:.4f}'.format(loss, valid_acc))\n",
    "    "
   ]
  },
  {
   "cell_type": "markdown",
   "metadata": {
    "deletable": true,
    "editable": true
   },
   "source": [
    "### Hyperparameters\n",
    "Tune the following parameters:\n",
    "* Set `epochs` to the number of iterations until the network stops learning or start overfitting\n",
    "* Set `batch_size` to the highest number that your machine has memory for.  Most people set them to common sizes of memory:\n",
    " * 64\n",
    " * 128\n",
    " * 256\n",
    " * ...\n",
    "* Set `keep_probability` to the probability of keeping a node using dropout"
   ]
  },
  {
   "cell_type": "code",
   "execution_count": 105,
   "metadata": {
    "collapsed": true,
    "deletable": true,
    "editable": true
   },
   "outputs": [],
   "source": [
    "# TODO: Tune Parameters\n",
    "epochs = 15\n",
    "batch_size = 128\n",
    "keep_probability = 0.7"
   ]
  },
  {
   "cell_type": "markdown",
   "metadata": {
    "deletable": true,
    "editable": true
   },
   "source": [
    "### Train on a Single CIFAR-10 Batch\n",
    "Instead of training the neural network on all the CIFAR-10 batches of data, let's use a single batch. This should save time while you iterate on the model to get a better accuracy.  Once the final validation accuracy is 50% or greater, run the model on all the data in the next section."
   ]
  },
  {
   "cell_type": "code",
   "execution_count": 106,
   "metadata": {
    "collapsed": false,
    "deletable": true,
    "editable": true
   },
   "outputs": [
    {
     "name": "stdout",
     "output_type": "stream",
     "text": [
      "Checking the Training on a Single Batch...\n",
      "Epoch  1, CIFAR-10 Batch 1:  Loss: 2.21 Validation Accuracy: 0.24\n",
      "Epoch  2, CIFAR-10 Batch 1:  Loss: 2.04 Validation Accuracy: 0.33\n",
      "Epoch  3, CIFAR-10 Batch 1:  Loss: 1.86 Validation Accuracy: 0.39\n",
      "Epoch  4, CIFAR-10 Batch 1:  Loss: 1.70 Validation Accuracy: 0.43\n",
      "Epoch  5, CIFAR-10 Batch 1:  Loss: 1.64 Validation Accuracy: 0.45\n",
      "Epoch  6, CIFAR-10 Batch 1:  Loss: 1.46 Validation Accuracy: 0.47\n",
      "Epoch  7, CIFAR-10 Batch 1:  Loss: 1.41 Validation Accuracy: 0.47\n",
      "Epoch  8, CIFAR-10 Batch 1:  Loss: 1.28 Validation Accuracy: 0.48\n",
      "Epoch  9, CIFAR-10 Batch 1:  Loss: 1.16 Validation Accuracy: 0.49\n",
      "Epoch 10, CIFAR-10 Batch 1:  Loss: 1.13 Validation Accuracy: 0.50\n",
      "Epoch 11, CIFAR-10 Batch 1:  Loss: 1.10 Validation Accuracy: 0.50\n",
      "Epoch 12, CIFAR-10 Batch 1:  Loss: 0.96 Validation Accuracy: 0.51\n",
      "Epoch 13, CIFAR-10 Batch 1:  Loss: 0.89 Validation Accuracy: 0.52\n",
      "Epoch 14, CIFAR-10 Batch 1:  Loss: 0.84 Validation Accuracy: 0.51\n",
      "Epoch 15, CIFAR-10 Batch 1:  Loss: 0.78 Validation Accuracy: 0.50\n"
     ]
    }
   ],
   "source": [
    "\"\"\"\n",
    "DON'T MODIFY ANYTHING IN THIS CELL\n",
    "\"\"\"\n",
    "print('Checking the Training on a Single Batch...')\n",
    "with tf.Session() as sess:\n",
    "    # Initializing the variables\n",
    "    sess.run(tf.global_variables_initializer())\n",
    "    \n",
    "    # Training cycle\n",
    "    for epoch in range(epochs):\n",
    "        batch_i = 1\n",
    "        for batch_features, batch_labels in helper.load_preprocess_training_batch(batch_i, batch_size):\n",
    "            train_neural_network(sess, optimizer, keep_probability, batch_features, batch_labels)\n",
    "        print('Epoch {:>2}, CIFAR-10 Batch {}:  '.format(epoch + 1, batch_i), end='')\n",
    "        print_stats(sess, batch_features, batch_labels, cost, accuracy)"
   ]
  },
  {
   "cell_type": "markdown",
   "metadata": {
    "deletable": true,
    "editable": true
   },
   "source": [
    "### Fully Train the Model\n",
    "Now that you got a good accuracy with a single CIFAR-10 batch, try it with all five batches."
   ]
  },
  {
   "cell_type": "code",
   "execution_count": 109,
   "metadata": {
    "collapsed": false,
    "deletable": true,
    "editable": true
   },
   "outputs": [
    {
     "name": "stdout",
     "output_type": "stream",
     "text": [
      "Training...\n",
      "Epoch  1, CIFAR-10 Batch 1:  Loss: 2.2414 Validation Accuracy: 0.1906\n",
      "Epoch  1, CIFAR-10 Batch 2:  Loss: 2.1250 Validation Accuracy: 0.2914\n",
      "Epoch  1, CIFAR-10 Batch 3:  Loss: 1.6579 Validation Accuracy: 0.3564\n",
      "Epoch  1, CIFAR-10 Batch 4:  Loss: 1.6543 Validation Accuracy: 0.4062\n",
      "Epoch  1, CIFAR-10 Batch 5:  Loss: 1.4867 Validation Accuracy: 0.4364\n",
      "Epoch  2, CIFAR-10 Batch 1:  Loss: 1.7173 Validation Accuracy: 0.4766\n",
      "Epoch  2, CIFAR-10 Batch 2:  Loss: 1.5127 Validation Accuracy: 0.4788\n",
      "Epoch  2, CIFAR-10 Batch 3:  Loss: 1.1897 Validation Accuracy: 0.4754\n",
      "Epoch  2, CIFAR-10 Batch 4:  Loss: 1.3522 Validation Accuracy: 0.4958\n",
      "Epoch  2, CIFAR-10 Batch 5:  Loss: 1.3172 Validation Accuracy: 0.4986\n",
      "Epoch  3, CIFAR-10 Batch 1:  Loss: 1.5599 Validation Accuracy: 0.4888\n",
      "Epoch  3, CIFAR-10 Batch 2:  Loss: 1.3017 Validation Accuracy: 0.5166\n",
      "Epoch  3, CIFAR-10 Batch 3:  Loss: 1.0701 Validation Accuracy: 0.5158\n",
      "Epoch  3, CIFAR-10 Batch 4:  Loss: 1.1521 Validation Accuracy: 0.5142\n",
      "Epoch  3, CIFAR-10 Batch 5:  Loss: 1.1553 Validation Accuracy: 0.5322\n",
      "Epoch  4, CIFAR-10 Batch 1:  Loss: 1.2679 Validation Accuracy: 0.5362\n",
      "Epoch  4, CIFAR-10 Batch 2:  Loss: 1.1780 Validation Accuracy: 0.5432\n",
      "Epoch  4, CIFAR-10 Batch 3:  Loss: 0.9210 Validation Accuracy: 0.5474\n",
      "Epoch  4, CIFAR-10 Batch 4:  Loss: 1.0596 Validation Accuracy: 0.5410\n",
      "Epoch  4, CIFAR-10 Batch 5:  Loss: 1.0355 Validation Accuracy: 0.5600\n",
      "Epoch  5, CIFAR-10 Batch 1:  Loss: 1.0710 Validation Accuracy: 0.5596\n",
      "Epoch  5, CIFAR-10 Batch 2:  Loss: 1.0348 Validation Accuracy: 0.5568\n",
      "Epoch  5, CIFAR-10 Batch 3:  Loss: 0.8617 Validation Accuracy: 0.5608\n",
      "Epoch  5, CIFAR-10 Batch 4:  Loss: 0.9801 Validation Accuracy: 0.5702\n",
      "Epoch  5, CIFAR-10 Batch 5:  Loss: 0.8826 Validation Accuracy: 0.5712\n",
      "Epoch  6, CIFAR-10 Batch 1:  Loss: 0.9709 Validation Accuracy: 0.5842\n",
      "Epoch  6, CIFAR-10 Batch 2:  Loss: 0.8917 Validation Accuracy: 0.5886\n",
      "Epoch  6, CIFAR-10 Batch 3:  Loss: 0.8600 Validation Accuracy: 0.5690\n",
      "Epoch  6, CIFAR-10 Batch 4:  Loss: 0.8426 Validation Accuracy: 0.5888\n",
      "Epoch  6, CIFAR-10 Batch 5:  Loss: 0.7936 Validation Accuracy: 0.5918\n",
      "Epoch  7, CIFAR-10 Batch 1:  Loss: 0.9535 Validation Accuracy: 0.5938\n",
      "Epoch  7, CIFAR-10 Batch 2:  Loss: 0.8757 Validation Accuracy: 0.5870\n",
      "Epoch  7, CIFAR-10 Batch 3:  Loss: 0.7488 Validation Accuracy: 0.5890\n",
      "Epoch  7, CIFAR-10 Batch 4:  Loss: 0.7813 Validation Accuracy: 0.5982\n",
      "Epoch  7, CIFAR-10 Batch 5:  Loss: 0.6879 Validation Accuracy: 0.6018\n",
      "Epoch  8, CIFAR-10 Batch 1:  Loss: 0.8292 Validation Accuracy: 0.6086\n",
      "Epoch  8, CIFAR-10 Batch 2:  Loss: 0.7933 Validation Accuracy: 0.5820\n",
      "Epoch  8, CIFAR-10 Batch 3:  Loss: 0.6360 Validation Accuracy: 0.5940\n",
      "Epoch  8, CIFAR-10 Batch 4:  Loss: 0.6569 Validation Accuracy: 0.6056\n",
      "Epoch  8, CIFAR-10 Batch 5:  Loss: 0.6198 Validation Accuracy: 0.6002\n",
      "Epoch  9, CIFAR-10 Batch 1:  Loss: 0.8027 Validation Accuracy: 0.6150\n",
      "Epoch  9, CIFAR-10 Batch 2:  Loss: 0.7094 Validation Accuracy: 0.5900\n",
      "Epoch  9, CIFAR-10 Batch 3:  Loss: 0.5937 Validation Accuracy: 0.5910\n",
      "Epoch  9, CIFAR-10 Batch 4:  Loss: 0.6111 Validation Accuracy: 0.6086\n",
      "Epoch  9, CIFAR-10 Batch 5:  Loss: 0.5839 Validation Accuracy: 0.6008\n",
      "Epoch 10, CIFAR-10 Batch 1:  Loss: 0.7269 Validation Accuracy: 0.6150\n",
      "Epoch 10, CIFAR-10 Batch 2:  Loss: 0.7013 Validation Accuracy: 0.6094\n",
      "Epoch 10, CIFAR-10 Batch 3:  Loss: 0.5112 Validation Accuracy: 0.6064\n",
      "Epoch 10, CIFAR-10 Batch 4:  Loss: 0.5647 Validation Accuracy: 0.6138\n",
      "Epoch 10, CIFAR-10 Batch 5:  Loss: 0.5138 Validation Accuracy: 0.6062\n",
      "Epoch 11, CIFAR-10 Batch 1:  Loss: 0.6732 Validation Accuracy: 0.6176\n",
      "Epoch 11, CIFAR-10 Batch 2:  Loss: 0.5676 Validation Accuracy: 0.6290\n",
      "Epoch 11, CIFAR-10 Batch 3:  Loss: 0.4301 Validation Accuracy: 0.6098\n",
      "Epoch 11, CIFAR-10 Batch 4:  Loss: 0.5263 Validation Accuracy: 0.6120\n",
      "Epoch 11, CIFAR-10 Batch 5:  Loss: 0.4731 Validation Accuracy: 0.6084\n",
      "Epoch 12, CIFAR-10 Batch 1:  Loss: 0.6266 Validation Accuracy: 0.6192\n",
      "Epoch 12, CIFAR-10 Batch 2:  Loss: 0.5803 Validation Accuracy: 0.6252\n",
      "Epoch 12, CIFAR-10 Batch 3:  Loss: 0.4741 Validation Accuracy: 0.6174\n",
      "Epoch 12, CIFAR-10 Batch 4:  Loss: 0.4699 Validation Accuracy: 0.6056\n",
      "Epoch 12, CIFAR-10 Batch 5:  Loss: 0.4611 Validation Accuracy: 0.6178\n",
      "Epoch 13, CIFAR-10 Batch 1:  Loss: 0.5489 Validation Accuracy: 0.6228\n",
      "Epoch 13, CIFAR-10 Batch 2:  Loss: 0.5032 Validation Accuracy: 0.6212\n",
      "Epoch 13, CIFAR-10 Batch 3:  Loss: 0.4506 Validation Accuracy: 0.6204\n",
      "Epoch 13, CIFAR-10 Batch 4:  Loss: 0.4439 Validation Accuracy: 0.6196\n",
      "Epoch 13, CIFAR-10 Batch 5:  Loss: 0.4370 Validation Accuracy: 0.6236\n",
      "Epoch 14, CIFAR-10 Batch 1:  Loss: 0.5236 Validation Accuracy: 0.6360\n",
      "Epoch 14, CIFAR-10 Batch 2:  Loss: 0.4857 Validation Accuracy: 0.6366\n",
      "Epoch 14, CIFAR-10 Batch 3:  Loss: 0.3859 Validation Accuracy: 0.6314\n",
      "Epoch 14, CIFAR-10 Batch 4:  Loss: 0.3992 Validation Accuracy: 0.6288\n",
      "Epoch 14, CIFAR-10 Batch 5:  Loss: 0.4210 Validation Accuracy: 0.6230\n",
      "Epoch 15, CIFAR-10 Batch 1:  Loss: 0.4935 Validation Accuracy: 0.6342\n",
      "Epoch 15, CIFAR-10 Batch 2:  Loss: 0.4688 Validation Accuracy: 0.6144\n",
      "Epoch 15, CIFAR-10 Batch 3:  Loss: 0.3397 Validation Accuracy: 0.6292\n",
      "Epoch 15, CIFAR-10 Batch 4:  Loss: 0.4241 Validation Accuracy: 0.6266\n",
      "Epoch 15, CIFAR-10 Batch 5:  Loss: 0.3568 Validation Accuracy: 0.6280\n"
     ]
    }
   ],
   "source": [
    "\"\"\"\n",
    "DON'T MODIFY ANYTHING IN THIS CELL\n",
    "\"\"\"\n",
    "save_model_path = './image_classification'\n",
    "\n",
    "print('Training...')\n",
    "with tf.Session() as sess:\n",
    "    # Initializing the variables\n",
    "    sess.run(tf.global_variables_initializer())\n",
    "    \n",
    "    # Training cycle\n",
    "    for epoch in range(epochs):\n",
    "        # Loop over all batches\n",
    "        n_batches = 5\n",
    "        for batch_i in range(1, n_batches + 1):\n",
    "            for batch_features, batch_labels in helper.load_preprocess_training_batch(batch_i, batch_size):\n",
    "                train_neural_network(sess, optimizer, keep_probability, batch_features, batch_labels)\n",
    "            print('Epoch {:>2}, CIFAR-10 Batch {}:  '.format(epoch + 1, batch_i), end='')\n",
    "            print_stats(sess, batch_features, batch_labels, cost, accuracy)\n",
    "            \n",
    "    # Save Model\n",
    "    saver = tf.train.Saver()\n",
    "    save_path = saver.save(sess, save_model_path)"
   ]
  },
  {
   "cell_type": "markdown",
   "metadata": {
    "deletable": true,
    "editable": true
   },
   "source": [
    "# Checkpoint\n",
    "The model has been saved to disk.\n",
    "## Test Model\n",
    "Test your model against the test dataset.  This will be your final accuracy. You should have an accuracy greater than 50%. If you don't, keep tweaking the model architecture and parameters."
   ]
  },
  {
   "cell_type": "code",
   "execution_count": 110,
   "metadata": {
    "collapsed": false,
    "deletable": true,
    "editable": true
   },
   "outputs": [
    {
     "name": "stdout",
     "output_type": "stream",
     "text": [
      "Testing Accuracy: 0.6302412974683544\n",
      "\n"
     ]
    },
    {
     "data": {
      "image/png": "[encoded data removed]",
      "text/plain": [
       "<matplotlib.figure.Figure at 0x262a1c352e8>"
      ]
     },
     "metadata": {
      "image/png": {
       "height": 319,
       "width": 355
      }
     },
     "output_type": "display_data"
    }
   ],
   "source": [
    "\"\"\"\n",
    "DON'T MODIFY ANYTHING IN THIS CELL\n",
    "\"\"\"\n",
    "%matplotlib inline\n",
    "%config InlineBackend.figure_format = 'retina'\n",
    "\n",
    "import tensorflow as tf\n",
    "import pickle\n",
    "import helper\n",
    "import random\n",
    "\n",
    "# Set batch size if not already set\n",
    "try:\n",
    "    if batch_size:\n",
    "        pass\n",
    "except NameError:\n",
    "    batch_size = 64\n",
    "\n",
    "save_model_path = './image_classification'\n",
    "n_samples = 4\n",
    "top_n_predictions = 3\n",
    "\n",
    "def test_model():\n",
    "    \"\"\"\n",
    "    Test the saved model against the test dataset\n",
    "    \"\"\"\n",
    "\n",
    "    test_features, test_labels = pickle.load(open('preprocess_training.p', mode='rb'))\n",
    "    loaded_graph = tf.Graph()\n",
    "\n",
    "    with tf.Session(graph=loaded_graph) as sess:\n",
    "        # Load model\n",
    "        loader = tf.train.import_meta_graph(save_model_path + '.meta')\n",
    "        loader.restore(sess, save_model_path)\n",
    "\n",
    "        # Get Tensors from loaded model\n",
    "        loaded_x = loaded_graph.get_tensor_by_name('x:0')\n",
    "        loaded_y = loaded_graph.get_tensor_by_name('y:0')\n",
    "        loaded_keep_prob = loaded_graph.get_tensor_by_name('keep_prob:0')\n",
    "        loaded_logits = loaded_graph.get_tensor_by_name('logits:0')\n",
    "        loaded_acc = loaded_graph.get_tensor_by_name('accuracy:0')\n",
    "        \n",
    "        # Get accuracy in batches for memory limitations\n",
    "        test_batch_acc_total = 0\n",
    "        test_batch_count = 0\n",
    "        \n",
    "        for train_feature_batch, train_label_batch in helper.batch_features_labels(test_features, test_labels, batch_size):\n",
    "            test_batch_acc_total += sess.run(\n",
    "                loaded_acc,\n",
    "                feed_dict={loaded_x: train_feature_batch, loaded_y: train_label_batch, loaded_keep_prob: 1.0})\n",
    "            test_batch_count += 1\n",
    "\n",
    "        print('Testing Accuracy: {}\\n'.format(test_batch_acc_total/test_batch_count))\n",
    "\n",
    "        # Print Random Samples\n",
    "        random_test_features, random_test_labels = tuple(zip(*random.sample(list(zip(test_features, test_labels)), n_samples)))\n",
    "        random_test_predictions = sess.run(\n",
    "            tf.nn.top_k(tf.nn.softmax(loaded_logits), top_n_predictions),\n",
    "            feed_dict={loaded_x: random_test_features, loaded_y: random_test_labels, loaded_keep_prob: 1.0})\n",
    "        helper.display_image_predictions(random_test_features, random_test_labels, random_test_predictions)\n",
    "\n",
    "\n",
    "test_model()"
   ]
  },
  {
   "cell_type": "markdown",
   "metadata": {
    "deletable": true,
    "editable": true
   },
   "source": [
    "## Why 50-70% Accuracy?\n",
    "You might be wondering why you can't get an accuracy any higher. First things first, 50% isn't bad for a simple CNN.  Pure guessing would get you 10% accuracy. However, you might notice people are getting scores [well above 70%](http://rodrigob.github.io/are_we_there_yet/build/classification_datasets_results.html#43494641522d3130).  That's because we haven't taught you all there is to know about neural networks. We still need to cover a few more techniques.\n",
    "## Submitting This Project\n",
    "When submitting this project, make sure to run all the cells before saving the notebook.  Save the notebook file as \"dlnd_image_classification.ipynb\" and save it as a HTML file under \"File\" -> \"Download as\".  Include the \"helper.py\" and \"problem_unittests.py\" files in your submission."
   ]
  }
 ],
 "metadata": {
  "kernelspec": {
   "display_name": "Python 3",
   "language": "python",
   "name": "python3"
  },
  "language_info": {
   "codemirror_mode": {
    "name": "ipython",
    "version": 3
   },
   "file_extension": ".py",
   "mimetype": "text/x-python",
   "name": "python",
   "nbconvert_exporter": "python",
   "pygments_lexer": "ipython3",
   "version": "3.5.2"
  }
 },
 "nbformat": 4,
 "nbformat_minor": 0
}
